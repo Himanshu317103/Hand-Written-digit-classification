{
  "nbformat": 4,
  "nbformat_minor": 0,
  "metadata": {
    "colab": {
      "provenance": []
    },
    "kernelspec": {
      "name": "python3",
      "display_name": "Python 3"
    },
    "language_info": {
      "name": "python"
    }
  },
  "cells": [
    {
      "cell_type": "markdown",
      "source": [
        "## Hand Written Digit Prediction-Classification Analysis\n",
        "The digit datset consists of 8×8 pixel imagges of digit . The images attributes of the dataset store 8×8 arrays of grayscales value foe each images we will use these arrays to visualize the first 4 images . The target attributes of the datset stores the digit each images represent\n",
        "\n",
        "##Import Libarary\n",
        "\n",
        "\n"
      ],
      "metadata": {
        "id": "bXc8LQbP6-3E"
      }
    },
    {
      "cell_type": "code",
      "source": [
        "import pandas as pd\n",
        "\n",
        "import numpy as np\n",
        "\n",
        "import matplotlib.pyplot as plt"
      ],
      "metadata": {
        "id": "ROtc4R1C8oTj"
      },
      "execution_count": 4,
      "outputs": []
    },
    {
      "cell_type": "markdown",
      "source": [
        "##Import Data\n"
      ],
      "metadata": {
        "id": "XnMUOrzT87kk"
      }
    },
    {
      "cell_type": "code",
      "source": [
        "from sklearn.datasets import load_digits\n",
        "\n",
        "df = load_digits()\n",
        "\n",
        "_, axes = plt.subplots(nrows=1, ncols=4,  figsize=(10,3))\n",
        "for ax, images , label in zip (axes,  df.images,  df. target):\n",
        "  ax.set_axis_off()\n",
        "  ax.imshow(images, cmap=plt.cm.gray_r,  interpolation=\"nearest\")\n",
        "  ax.set_title(\"Training : %i\" % label)"
      ],
      "metadata": {
        "colab": {
          "base_uri": "https://localhost:8080/",
          "height": 227
        },
        "id": "U0XALUIg9RSs",
        "outputId": "73fbb086-0476-4549-e282-687e811c3279"
      },
      "execution_count": 7,
      "outputs": [
        {
          "output_type": "display_data",
          "data": {
            "text/plain": [
              "<Figure size 1000x300 with 4 Axes>"
            ],
            "image/png": "[encoded data removed]"
          },
          "metadata": {}
        }
      ]
    },
    {
      "cell_type": "markdown",
      "source": [
        "##Data Preprocessing\n",
        "Flatten Image"
      ],
      "metadata": {
        "id": "QO5_F0tPALE0"
      }
    },
    {
      "cell_type": "code",
      "source": [
        "df.images.shape\n",
        "(1797,8,8)\n"
      ],
      "metadata": {
        "colab": {
          "base_uri": "https://localhost:8080/"
        },
        "id": "DtIJX6m7AsHT",
        "outputId": "6f9229a6-dc62-4bab-e926-12d7c4b017c0"
      },
      "execution_count": 8,
      "outputs": [
        {
          "output_type": "execute_result",
          "data": {
            "text/plain": [
              "(1797, 8, 8)"
            ]
          },
          "metadata": {},
          "execution_count": 8
        }
      ]
    },
    {
      "cell_type": "code",
      "source": [
        "df.images[0]\n"
      ],
      "metadata": {
        "colab": {
          "base_uri": "https://localhost:8080/"
        },
        "id": "lUidi0M0BPVb",
        "outputId": "db1d1e5b-7f4b-407f-9980-3d543efcd7f2"
      },
      "execution_count": 9,
      "outputs": [
        {
          "output_type": "execute_result",
          "data": {
            "text/plain": [
              "array([[ 0.,  0.,  5., 13.,  9.,  1.,  0.,  0.],\n",
              "       [ 0.,  0., 13., 15., 10., 15.,  5.,  0.],\n",
              "       [ 0.,  3., 15.,  2.,  0., 11.,  8.,  0.],\n",
              "       [ 0.,  4., 12.,  0.,  0.,  8.,  8.,  0.],\n",
              "       [ 0.,  5.,  8.,  0.,  0.,  9.,  8.,  0.],\n",
              "       [ 0.,  4., 11.,  0.,  1., 12.,  7.,  0.],\n",
              "       [ 0.,  2., 14.,  5., 10., 12.,  0.,  0.],\n",
              "       [ 0.,  0.,  6., 13., 10.,  0.,  0.,  0.]])"
            ]
          },
          "metadata": {},
          "execution_count": 9
        }
      ]
    },
    {
      "cell_type": "code",
      "source": [
        "df.images[0].shape\n",
        "(8,8)"
      ],
      "metadata": {
        "colab": {
          "base_uri": "https://localhost:8080/"
        },
        "id": "7TT0_f7sBaGL",
        "outputId": "c9bc4a76-1e3a-4e9d-d273-7a67a8bb812c"
      },
      "execution_count": 10,
      "outputs": [
        {
          "output_type": "execute_result",
          "data": {
            "text/plain": [
              "(8, 8)"
            ]
          },
          "metadata": {},
          "execution_count": 10
        }
      ]
    },
    {
      "cell_type": "code",
      "source": [
        "len(df.images)\n",
        "1797"
      ],
      "metadata": {
        "colab": {
          "base_uri": "https://localhost:8080/"
        },
        "id": "868YKa0aBlQr",
        "outputId": "4ed66e90-be27-4ac6-fc0f-f4beff474e5d"
      },
      "execution_count": 11,
      "outputs": [
        {
          "output_type": "execute_result",
          "data": {
            "text/plain": [
              "1797"
            ]
          },
          "metadata": {},
          "execution_count": 11
        }
      ]
    },
    {
      "cell_type": "code",
      "source": [
        "n_sample = len(df.images)\n",
        "data = df.images.reshape((n_sample, -1))"
      ],
      "metadata": {
        "id": "6Pzze9aXCKV7"
      },
      "execution_count": 14,
      "outputs": []
    },
    {
      "cell_type": "code",
      "source": [
        "data[0]\n",
        "\n"
      ],
      "metadata": {
        "colab": {
          "base_uri": "https://localhost:8080/"
        },
        "id": "fy76IYDdCf0b",
        "outputId": "92f206d6-3039-4b58-f241-99078caabcca"
      },
      "execution_count": 15,
      "outputs": [
        {
          "output_type": "execute_result",
          "data": {
            "text/plain": [
              "array([ 0.,  0.,  5., 13.,  9.,  1.,  0.,  0.,  0.,  0., 13., 15., 10.,\n",
              "       15.,  5.,  0.,  0.,  3., 15.,  2.,  0., 11.,  8.,  0.,  0.,  4.,\n",
              "       12.,  0.,  0.,  8.,  8.,  0.,  0.,  5.,  8.,  0.,  0.,  9.,  8.,\n",
              "        0.,  0.,  4., 11.,  0.,  1., 12.,  7.,  0.,  0.,  2., 14.,  5.,\n",
              "       10., 12.,  0.,  0.,  0.,  0.,  6., 13., 10.,  0.,  0.,  0.])"
            ]
          },
          "metadata": {},
          "execution_count": 15
        }
      ]
    },
    {
      "cell_type": "code",
      "source": [
        "data[0].shape"
      ],
      "metadata": {
        "colab": {
          "base_uri": "https://localhost:8080/"
        },
        "id": "Xx1zDrmfCqlz",
        "outputId": "cb951715-579a-4b1a-f919-c75704228b60"
      },
      "execution_count": 16,
      "outputs": [
        {
          "output_type": "execute_result",
          "data": {
            "text/plain": [
              "(64,)"
            ]
          },
          "metadata": {},
          "execution_count": 16
        }
      ]
    },
    {
      "cell_type": "code",
      "source": [
        "data.shape"
      ],
      "metadata": {
        "colab": {
          "base_uri": "https://localhost:8080/"
        },
        "id": "kEyt_e6-CxQT",
        "outputId": "b206526f-0867-4e48-c62a-92356a2bee98"
      },
      "execution_count": 17,
      "outputs": [
        {
          "output_type": "execute_result",
          "data": {
            "text/plain": [
              "(1797, 64)"
            ]
          },
          "metadata": {},
          "execution_count": 17
        }
      ]
    },
    {
      "cell_type": "markdown",
      "source": [
        "##Scaling Image Data\n"
      ],
      "metadata": {
        "id": "PWWiCrVQE1OS"
      }
    },
    {
      "cell_type": "code",
      "source": [
        "data.min()"
      ],
      "metadata": {
        "colab": {
          "base_uri": "https://localhost:8080/"
        },
        "id": "RvVd5U7XE6eb",
        "outputId": "fcbf2fd1-0808-47bb-bc4b-e5fcae9a77d6"
      },
      "execution_count": 18,
      "outputs": [
        {
          "output_type": "execute_result",
          "data": {
            "text/plain": [
              "0.0"
            ]
          },
          "metadata": {},
          "execution_count": 18
        }
      ]
    },
    {
      "cell_type": "markdown",
      "source": [
        "data.max()"
      ],
      "metadata": {
        "id": "3RtRJz-YFFw6"
      }
    },
    {
      "cell_type": "code",
      "source": [
        "data = data/16"
      ],
      "metadata": {
        "id": "wQlQ0wVHFLYS"
      },
      "execution_count": 20,
      "outputs": []
    },
    {
      "cell_type": "code",
      "source": [
        "data.min()"
      ],
      "metadata": {
        "colab": {
          "base_uri": "https://localhost:8080/"
        },
        "id": "xRXFP2oEFafK",
        "outputId": "b0495184-fe4a-46e1-98fc-14633debd86d"
      },
      "execution_count": 21,
      "outputs": [
        {
          "output_type": "execute_result",
          "data": {
            "text/plain": [
              "0.0"
            ]
          },
          "metadata": {},
          "execution_count": 21
        }
      ]
    },
    {
      "cell_type": "code",
      "source": [
        "data.max()"
      ],
      "metadata": {
        "colab": {
          "base_uri": "https://localhost:8080/"
        },
        "id": "uCQ76POFFhVb",
        "outputId": "b596a7f2-8949-49aa-9558-1d62ec6d9c0c"
      },
      "execution_count": 22,
      "outputs": [
        {
          "output_type": "execute_result",
          "data": {
            "text/plain": [
              "1.0"
            ]
          },
          "metadata": {},
          "execution_count": 22
        }
      ]
    },
    {
      "cell_type": "code",
      "source": [
        "data[0]"
      ],
      "metadata": {
        "colab": {
          "base_uri": "https://localhost:8080/"
        },
        "id": "QPJRHt-wFj4C",
        "outputId": "43e38ba5-de02-45ae-f0bb-811767a61e3b"
      },
      "execution_count": 23,
      "outputs": [
        {
          "output_type": "execute_result",
          "data": {
            "text/plain": [
              "array([0.    , 0.    , 0.3125, 0.8125, 0.5625, 0.0625, 0.    , 0.    ,\n",
              "       0.    , 0.    , 0.8125, 0.9375, 0.625 , 0.9375, 0.3125, 0.    ,\n",
              "       0.    , 0.1875, 0.9375, 0.125 , 0.    , 0.6875, 0.5   , 0.    ,\n",
              "       0.    , 0.25  , 0.75  , 0.    , 0.    , 0.5   , 0.5   , 0.    ,\n",
              "       0.    , 0.3125, 0.5   , 0.    , 0.    , 0.5625, 0.5   , 0.    ,\n",
              "       0.    , 0.25  , 0.6875, 0.    , 0.0625, 0.75  , 0.4375, 0.    ,\n",
              "       0.    , 0.125 , 0.875 , 0.3125, 0.625 , 0.75  , 0.    , 0.    ,\n",
              "       0.    , 0.    , 0.375 , 0.8125, 0.625 , 0.    , 0.    , 0.    ])"
            ]
          },
          "metadata": {},
          "execution_count": 23
        }
      ]
    },
    {
      "cell_type": "markdown",
      "source": [
        "##Train Test Split Data"
      ],
      "metadata": {
        "id": "CGTugKHSFrKK"
      }
    },
    {
      "cell_type": "code",
      "source": [
        "from sklearn.model_selection import train_test_split\n"
      ],
      "metadata": {
        "id": "BJ-AuoJiFwSy"
      },
      "execution_count": 30,
      "outputs": []
    },
    {
      "cell_type": "code",
      "source": [
        "x_train, x_test, y_train, y_test = train_test_split(data, df.target, test_size=0.3)"
      ],
      "metadata": {
        "id": "9eJdc7Z-GueS"
      },
      "execution_count": 36,
      "outputs": []
    },
    {
      "cell_type": "code",
      "source": [
        "x_train.shape, x_test.shape, y_train.shape, y_test.shape"
      ],
      "metadata": {
        "colab": {
          "base_uri": "https://localhost:8080/"
        },
        "id": "BXdKYG3gIFcS",
        "outputId": "fd0ab66f-3382-43d5-c596-563a91ac78ba"
      },
      "execution_count": 37,
      "outputs": [
        {
          "output_type": "execute_result",
          "data": {
            "text/plain": [
              "((1257, 64), (540, 64), (1257,), (540,))"
            ]
          },
          "metadata": {},
          "execution_count": 37
        }
      ]
    },
    {
      "cell_type": "markdown",
      "source": [
        "##Random Forest Model"
      ],
      "metadata": {
        "id": "Hm7k3KSNIe0C"
      }
    },
    {
      "cell_type": "code",
      "source": [
        "from sklearn.ensemble import RandomForestClassifier"
      ],
      "metadata": {
        "id": "l9VzhOpsIkGK"
      },
      "execution_count": 38,
      "outputs": []
    },
    {
      "cell_type": "code",
      "source": [
        "rf= RandomForestClassifier()"
      ],
      "metadata": {
        "id": "-5hfVDZkIu_b"
      },
      "execution_count": 39,
      "outputs": []
    },
    {
      "cell_type": "code",
      "source": [
        "rf.fit(x_train, y_train)"
      ],
      "metadata": {
        "colab": {
          "base_uri": "https://localhost:8080/",
          "height": 74
        },
        "id": "w74qeLD8Iy3T",
        "outputId": "d57111ec-0e50-4837-a71e-7133025ac4a9"
      },
      "execution_count": 40,
      "outputs": [
        {
          "output_type": "execute_result",
          "data": {
            "text/plain": [
              "RandomForestClassifier()"
            ],
            "text/html": [
              "<style>#sk-container-id-1 {color: black;background-color: white;}#sk-container-id-1 pre{padding: 0;}#sk-container-id-1 div.sk-toggleable {background-color: white;}#sk-container-id-1 label.sk-toggleable__label {cursor: pointer;display: block;width: 100%;margin-bottom: 0;padding: 0.3em;box-sizing: border-box;text-align: center;}#sk-container-id-1 label.sk-toggleable__label-arrow:before {content: \"▸\";float: left;margin-right: 0.25em;color: #696969;}#sk-container-id-1 label.sk-toggleable__label-arrow:hover:before {color: black;}#sk-container-id-1 div.sk-estimator:hover label.sk-toggleable__label-arrow:before {color: black;}#sk-container-id-1 div.sk-toggleable__content {max-height: 0;max-width: 0;overflow: hidden;text-align: left;background-color: #f0f8ff;}#sk-container-id-1 div.sk-toggleable__content pre {margin: 0.2em;color: black;border-radius: 0.25em;background-color: #f0f8ff;}#sk-container-id-1 input.sk-toggleable__control:checked~div.sk-toggleable__content {max-height: 200px;max-width: 100%;overflow: auto;}#sk-container-id-1 input.sk-toggleable__control:checked~label.sk-toggleable__label-arrow:before {content: \"▾\";}#sk-container-id-1 div.sk-estimator input.sk-toggleable__control:checked~label.sk-toggleable__label {background-color: #d4ebff;}#sk-container-id-1 div.sk-label input.sk-toggleable__control:checked~label.sk-toggleable__label {background-color: #d4ebff;}#sk-container-id-1 input.sk-hidden--visually {border: 0;clip: rect(1px 1px 1px 1px);clip: rect(1px, 1px, 1px, 1px);height: 1px;margin: -1px;overflow: hidden;padding: 0;position: absolute;width: 1px;}#sk-container-id-1 div.sk-estimator {font-family: monospace;background-color: #f0f8ff;border: 1px dotted black;border-radius: 0.25em;box-sizing: border-box;margin-bottom: 0.5em;}#sk-container-id-1 div.sk-estimator:hover {background-color: #d4ebff;}#sk-container-id-1 div.sk-parallel-item::after {content: \"\";width: 100%;border-bottom: 1px solid gray;flex-grow: 1;}#sk-container-id-1 div.sk-label:hover label.sk-toggleable__label {background-color: #d4ebff;}#sk-container-id-1 div.sk-serial::before {content: \"\";position: absolute;border-left: 1px solid gray;box-sizing: border-box;top: 0;bottom: 0;left: 50%;z-index: 0;}#sk-container-id-1 div.sk-serial {display: flex;flex-direction: column;align-items: center;background-color: white;padding-right: 0.2em;padding-left: 0.2em;position: relative;}#sk-container-id-1 div.sk-item {position: relative;z-index: 1;}#sk-container-id-1 div.sk-parallel {display: flex;align-items: stretch;justify-content: center;background-color: white;position: relative;}#sk-container-id-1 div.sk-item::before, #sk-container-id-1 div.sk-parallel-item::before {content: \"\";position: absolute;border-left: 1px solid gray;box-sizing: border-box;top: 0;bottom: 0;left: 50%;z-index: -1;}#sk-container-id-1 div.sk-parallel-item {display: flex;flex-direction: column;z-index: 1;position: relative;background-color: white;}#sk-container-id-1 div.sk-parallel-item:first-child::after {align-self: flex-end;width: 50%;}#sk-container-id-1 div.sk-parallel-item:last-child::after {align-self: flex-start;width: 50%;}#sk-container-id-1 div.sk-parallel-item:only-child::after {width: 0;}#sk-container-id-1 div.sk-dashed-wrapped {border: 1px dashed gray;margin: 0 0.4em 0.5em 0.4em;box-sizing: border-box;padding-bottom: 0.4em;background-color: white;}#sk-container-id-1 div.sk-label label {font-family: monospace;font-weight: bold;display: inline-block;line-height: 1.2em;}#sk-container-id-1 div.sk-label-container {text-align: center;}#sk-container-id-1 div.sk-container {/* jupyter's `normalize.less` sets `[hidden] { display: none; }` but bootstrap.min.css set `[hidden] { display: none !important; }` so we also need the `!important` here to be able to override the default hidden behavior on the sphinx rendered scikit-learn.org. See: https://github.com/scikit-learn/scikit-learn/issues/21755 */display: inline-block !important;position: relative;}#sk-container-id-1 div.sk-text-repr-fallback {display: none;}</style><div id=\"sk-container-id-1\" class=\"sk-top-container\"><div class=\"sk-text-repr-fallback\"><pre>RandomForestClassifier()</pre><b>In a Jupyter environment, please rerun this cell to show the HTML representation or trust the notebook. <br />On GitHub, the HTML representation is unable to render, please try loading this page with nbviewer.org.</b></div><div class=\"sk-container\" hidden><div class=\"sk-item\"><div class=\"sk-estimator sk-toggleable\"><input class=\"sk-toggleable__control sk-hidden--visually\" id=\"sk-estimator-id-1\" type=\"checkbox\" checked><label for=\"sk-estimator-id-1\" class=\"sk-toggleable__label sk-toggleable__label-arrow\">RandomForestClassifier</label><div class=\"sk-toggleable__content\"><pre>RandomForestClassifier()</pre></div></div></div></div></div>"
            ]
          },
          "metadata": {},
          "execution_count": 40
        }
      ]
    },
    {
      "cell_type": "markdown",
      "source": [
        "##Predict Test Data\n"
      ],
      "metadata": {
        "id": "EIzawssvI-Ba"
      }
    },
    {
      "cell_type": "code",
      "source": [
        "y_pred = rf.predict(x_test)"
      ],
      "metadata": {
        "id": "N7ndX4LoJH16"
      },
      "execution_count": 41,
      "outputs": []
    },
    {
      "cell_type": "code",
      "source": [
        "y_pred"
      ],
      "metadata": {
        "colab": {
          "base_uri": "https://localhost:8080/"
        },
        "id": "JZlcZ2Y8JPXb",
        "outputId": "1576de9b-b68c-476b-f61f-678c77c1e754"
      },
      "execution_count": 42,
      "outputs": [
        {
          "output_type": "execute_result",
          "data": {
            "text/plain": [
              "array([2, 5, 2, 2, 0, 1, 1, 3, 0, 1, 4, 3, 6, 5, 0, 6, 3, 7, 7, 0, 5, 2,\n",
              "       8, 3, 8, 0, 5, 7, 0, 6, 1, 2, 6, 4, 6, 8, 3, 9, 5, 7, 2, 4, 1, 8,\n",
              "       5, 2, 2, 7, 5, 4, 7, 9, 6, 6, 2, 7, 8, 5, 3, 6, 1, 1, 4, 1, 9, 5,\n",
              "       7, 9, 0, 6, 6, 0, 7, 5, 0, 1, 3, 9, 5, 1, 4, 9, 6, 5, 6, 8, 7, 5,\n",
              "       3, 3, 8, 5, 0, 5, 7, 5, 7, 4, 7, 3, 8, 9, 4, 3, 1, 1, 6, 1, 7, 5,\n",
              "       5, 5, 8, 4, 9, 4, 1, 1, 3, 2, 7, 2, 1, 4, 0, 6, 4, 1, 9, 7, 8, 3,\n",
              "       3, 9, 8, 0, 3, 7, 2, 5, 9, 4, 5, 1, 1, 6, 6, 6, 4, 5, 6, 9, 8, 1,\n",
              "       4, 8, 8, 9, 0, 4, 5, 1, 8, 2, 8, 8, 9, 1, 2, 6, 1, 6, 3, 7, 2, 8,\n",
              "       6, 8, 7, 7, 9, 6, 3, 8, 4, 0, 8, 4, 3, 1, 4, 4, 6, 8, 8, 9, 6, 0,\n",
              "       3, 2, 1, 5, 2, 1, 3, 7, 8, 2, 6, 0, 7, 4, 3, 4, 7, 2, 8, 7, 7, 6,\n",
              "       5, 9, 2, 9, 6, 1, 1, 5, 6, 7, 5, 3, 4, 1, 1, 2, 8, 0, 9, 7, 9, 3,\n",
              "       2, 1, 2, 6, 7, 2, 9, 3, 3, 0, 2, 6, 6, 1, 3, 5, 1, 0, 7, 4, 4, 2,\n",
              "       1, 5, 8, 5, 0, 4, 8, 3, 2, 5, 9, 8, 2, 6, 4, 4, 1, 2, 5, 7, 2, 5,\n",
              "       3, 5, 3, 4, 6, 3, 2, 3, 1, 7, 9, 9, 2, 1, 3, 0, 5, 1, 9, 3, 8, 4,\n",
              "       4, 5, 8, 5, 2, 2, 4, 7, 4, 7, 3, 8, 6, 3, 8, 1, 0, 4, 1, 9, 2, 0,\n",
              "       6, 5, 3, 3, 5, 4, 8, 5, 3, 2, 8, 1, 0, 7, 9, 6, 1, 5, 5, 9, 9, 9,\n",
              "       1, 4, 9, 8, 7, 0, 1, 7, 2, 2, 8, 0, 3, 7, 9, 1, 9, 3, 3, 1, 1, 5,\n",
              "       2, 6, 9, 5, 0, 5, 7, 7, 2, 1, 2, 9, 4, 7, 9, 6, 2, 7, 2, 3, 7, 4,\n",
              "       8, 0, 6, 9, 9, 1, 8, 5, 7, 5, 7, 0, 1, 8, 8, 3, 1, 3, 9, 8, 3, 4,\n",
              "       3, 4, 4, 7, 8, 0, 1, 8, 9, 7, 9, 3, 3, 2, 9, 8, 9, 1, 9, 9, 0, 9,\n",
              "       3, 7, 4, 0, 4, 4, 0, 4, 3, 1, 7, 5, 5, 9, 5, 2, 9, 2, 2, 9, 5, 8,\n",
              "       7, 2, 0, 0, 0, 0, 6, 3, 8, 3, 5, 7, 1, 1, 0, 4, 6, 3, 7, 5, 0, 5,\n",
              "       4, 7, 6, 2, 4, 2, 8, 3, 1, 6, 8, 1, 9, 1, 3, 5, 3, 1, 7, 2, 8, 2,\n",
              "       1, 9, 2, 8, 4, 1, 6, 2, 9, 9, 2, 9, 4, 2, 4, 3, 0, 0, 2, 1, 7, 1,\n",
              "       3, 2, 1, 1, 6, 8, 1, 5, 0, 0, 3, 5])"
            ]
          },
          "metadata": {},
          "execution_count": 42
        }
      ]
    },
    {
      "cell_type": "markdown",
      "source": [
        "##Model accuracy"
      ],
      "metadata": {
        "id": "8Z-y1s9UJg6z"
      }
    },
    {
      "cell_type": "code",
      "source": [
        "from sklearn.metrics import confusion_matrix, classification_report"
      ],
      "metadata": {
        "id": "59pSVn9tJkKC"
      },
      "execution_count": 43,
      "outputs": []
    },
    {
      "cell_type": "code",
      "source": [
        "confusion_matrix(y_test,y_pred)"
      ],
      "metadata": {
        "colab": {
          "base_uri": "https://localhost:8080/"
        },
        "id": "V-dnbgH_JvK5",
        "outputId": "c7558445-bb59-4604-ad78-026f5aa4fc62"
      },
      "execution_count": 44,
      "outputs": [
        {
          "output_type": "execute_result",
          "data": {
            "text/plain": [
              "array([[43,  0,  0,  0,  0,  0,  0,  0,  0,  0],\n",
              "       [ 0, 65,  0,  0,  0,  0,  0,  0,  0,  0],\n",
              "       [ 0,  0, 58,  0,  0,  0,  0,  0,  0,  0],\n",
              "       [ 0,  0,  0, 57,  0,  0,  0,  0,  0,  0],\n",
              "       [ 0,  0,  0,  0, 50,  0,  0,  0,  0,  0],\n",
              "       [ 0,  0,  0,  0,  0, 56,  0,  0,  0,  0],\n",
              "       [ 0,  0,  0,  0,  1,  0, 45,  0,  0,  0],\n",
              "       [ 0,  0,  0,  0,  0,  0,  0, 54,  0,  0],\n",
              "       [ 0,  2,  0,  1,  0,  0,  0,  0, 50,  0],\n",
              "       [ 0,  0,  0,  1,  0,  1,  0,  0,  2, 54]])"
            ]
          },
          "metadata": {},
          "execution_count": 44
        }
      ]
    },
    {
      "cell_type": "code",
      "source": [
        "print(classification_report(y_test, y_pred))"
      ],
      "metadata": {
        "colab": {
          "base_uri": "https://localhost:8080/"
        },
        "id": "hVNiFDZ-J7R6",
        "outputId": "a03a2007-25c0-4cd1-a261-8f5e2ba599ca"
      },
      "execution_count": 45,
      "outputs": [
        {
          "output_type": "stream",
          "name": "stdout",
          "text": [
            "              precision    recall  f1-score   support\n",
            "\n",
            "           0       1.00      1.00      1.00        43\n",
            "           1       0.97      1.00      0.98        65\n",
            "           2       1.00      1.00      1.00        58\n",
            "           3       0.97      1.00      0.98        57\n",
            "           4       0.98      1.00      0.99        50\n",
            "           5       0.98      1.00      0.99        56\n",
            "           6       1.00      0.98      0.99        46\n",
            "           7       1.00      1.00      1.00        54\n",
            "           8       0.96      0.94      0.95        53\n",
            "           9       1.00      0.93      0.96        58\n",
            "\n",
            "    accuracy                           0.99       540\n",
            "   macro avg       0.99      0.99      0.99       540\n",
            "weighted avg       0.99      0.99      0.99       540\n",
            "\n"
          ]
        }
      ]
    }
  ]
}